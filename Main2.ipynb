{
 "cells": [
  {
   "cell_type": "code",
   "execution_count": 4,
   "metadata": {},
   "outputs": [
    {
     "name": "stdout",
     "output_type": "stream",
     "text": [
      "            Date          Open          High           Low         Close  \\\n",
      "0     2010-06-11   5078.750000   5139.049805   5078.750000   5119.350098   \n",
      "1     2010-06-14   5120.149902   5201.250000   5120.149902   5197.700195   \n",
      "2     2010-06-15   5201.299805   5231.450195   5171.049805   5222.350098   \n",
      "3     2010-06-16   5225.049805   5255.649902   5214.899902   5233.350098   \n",
      "4     2010-06-17   5233.649902   5285.549805   5206.549805   5274.850098   \n",
      "...          ...           ...           ...           ...           ...   \n",
      "2715  2021-06-07  15725.099609  15773.450195  15678.099609  15751.650391   \n",
      "2716  2021-06-08  15773.900391  15778.799805  15680.000000  15740.099609   \n",
      "2717  2021-06-09  15766.299805  15800.450195  15566.900391  15635.349609   \n",
      "2718  2021-06-10  15692.099609  15751.250000  15648.500000  15737.750000   \n",
      "2719  2021-06-11  15796.450195  15835.549805  15749.799805  15799.349609   \n",
      "\n",
      "         Adj Close    Volume  \n",
      "0      5119.350098       0.0  \n",
      "1      5197.700195       0.0  \n",
      "2      5222.350098       0.0  \n",
      "3      5233.350098       0.0  \n",
      "4      5274.850098       0.0  \n",
      "...            ...       ...  \n",
      "2715  15751.650391  394000.0  \n",
      "2716  15740.099609  378200.0  \n",
      "2717  15635.349609  457900.0  \n",
      "2718  15737.750000  298300.0  \n",
      "2719  15799.349609  363000.0  \n",
      "\n",
      "[2720 rows x 7 columns]\n"
     ]
    }
   ],
   "source": [
    "import time\n",
    "import datetime\n",
    "import pandas as pd\n",
    "\n",
    "ticker = '%5ENSEI'\n",
    "period1 = int(time.mktime(datetime.datetime(2010, 6, 11, 23, 59).timetuple()))\n",
    "period2 = int(time.mktime(datetime.datetime(2021, 6, 11, 23, 59).timetuple()))\n",
    "interval = '1d' # 1d, 1m\n",
    "\n",
    "query_string = f'https://query1.finance.yahoo.com/v7/finance/download/{ticker}?period1={period1}&period2={period2}&interval={interval}&events=history&includeAdjustedClose=true'\n",
    "\n",
    "a = pd.read_csv(query_string)\n",
    "# print(df)\n",
    "a.to_csv('%5ENSEI.csv')\n",
    "print(a)\n"
   ]
  },
  {
   "cell_type": "code",
   "execution_count": 5,
   "metadata": {},
   "outputs": [],
   "source": [
    "c = list(a['Date'].unique())"
   ]
  },
  {
   "cell_type": "code",
   "execution_count": 6,
   "metadata": {},
   "outputs": [],
   "source": [
    "d=a.iloc[:,[1,4]].values"
   ]
  },
  {
   "cell_type": "code",
   "execution_count": 7,
   "metadata": {},
   "outputs": [
    {
     "data": {
      "text/plain": [
       "array([[ 5078.75    ,  5119.350098],\n",
       "       [ 5120.149902,  5197.700195],\n",
       "       [ 5201.299805,  5222.350098],\n",
       "       ...,\n",
       "       [15766.299805, 15635.349609],\n",
       "       [15692.099609, 15737.75    ],\n",
       "       [15796.450195, 15799.349609]])"
      ]
     },
     "execution_count": 7,
     "metadata": {},
     "output_type": "execute_result"
    }
   ],
   "source": [
    "d"
   ]
  },
  {
   "cell_type": "code",
   "execution_count": 18,
   "metadata": {},
   "outputs": [
    {
     "name": "stdout",
     "output_type": "stream",
     "text": [
      "[ 0.79941123  1.51460982  0.40471216 ... -0.21428297 -0.83057025\n",
      "  0.29091321]\n"
     ]
    }
   ],
   "source": [
    "import numpy as np\n",
    "label=[]\n",
    "for i in range(0,2719):\n",
    "    s=((d[i][1]-d[i][0])/d[i][0])\n",
    "    label.append(s)\n",
    "label=np.array(label)    \n",
    "print(label*100)"
   ]
  },
  {
   "cell_type": "code",
   "execution_count": 21,
   "metadata": {},
   "outputs": [
    {
     "data": {
      "text/html": [
       "<div>\n",
       "<style scoped>\n",
       "    .dataframe tbody tr th:only-of-type {\n",
       "        vertical-align: middle;\n",
       "    }\n",
       "\n",
       "    .dataframe tbody tr th {\n",
       "        vertical-align: top;\n",
       "    }\n",
       "\n",
       "    .dataframe thead th {\n",
       "        text-align: right;\n",
       "    }\n",
       "</style>\n",
       "<table border=\"1\" class=\"dataframe\">\n",
       "  <thead>\n",
       "    <tr style=\"text-align: right;\">\n",
       "      <th></th>\n",
       "      <th>value</th>\n",
       "    </tr>\n",
       "  </thead>\n",
       "  <tbody>\n",
       "    <tr>\n",
       "      <th>0</th>\n",
       "      <td>0.799411</td>\n",
       "    </tr>\n",
       "    <tr>\n",
       "      <th>1</th>\n",
       "      <td>1.514610</td>\n",
       "    </tr>\n",
       "    <tr>\n",
       "      <th>2</th>\n",
       "      <td>0.404712</td>\n",
       "    </tr>\n",
       "    <tr>\n",
       "      <th>3</th>\n",
       "      <td>0.158856</td>\n",
       "    </tr>\n",
       "    <tr>\n",
       "      <th>4</th>\n",
       "      <td>0.787217</td>\n",
       "    </tr>\n",
       "    <tr>\n",
       "      <th>...</th>\n",
       "      <td>...</td>\n",
       "    </tr>\n",
       "    <tr>\n",
       "      <th>2714</th>\n",
       "      <td>-0.268894</td>\n",
       "    </tr>\n",
       "    <tr>\n",
       "      <th>2715</th>\n",
       "      <td>0.168843</td>\n",
       "    </tr>\n",
       "    <tr>\n",
       "      <th>2716</th>\n",
       "      <td>-0.214283</td>\n",
       "    </tr>\n",
       "    <tr>\n",
       "      <th>2717</th>\n",
       "      <td>-0.830570</td>\n",
       "    </tr>\n",
       "    <tr>\n",
       "      <th>2718</th>\n",
       "      <td>0.290913</td>\n",
       "    </tr>\n",
       "  </tbody>\n",
       "</table>\n",
       "<p>2719 rows × 1 columns</p>\n",
       "</div>"
      ],
      "text/plain": [
       "         value\n",
       "0     0.799411\n",
       "1     1.514610\n",
       "2     0.404712\n",
       "3     0.158856\n",
       "4     0.787217\n",
       "...        ...\n",
       "2714 -0.268894\n",
       "2715  0.168843\n",
       "2716 -0.214283\n",
       "2717 -0.830570\n",
       "2718  0.290913\n",
       "\n",
       "[2719 rows x 1 columns]"
      ]
     },
     "execution_count": 21,
     "metadata": {},
     "output_type": "execute_result"
    }
   ],
   "source": [
    "df2=pd.DataFrame(label*100, columns = ['value'])\n",
    "df2"
   ]
  },
  {
   "cell_type": "code",
   "execution_count": 22,
   "metadata": {},
   "outputs": [
    {
     "data": {
      "text/html": [
       "<div>\n",
       "<style scoped>\n",
       "    .dataframe tbody tr th:only-of-type {\n",
       "        vertical-align: middle;\n",
       "    }\n",
       "\n",
       "    .dataframe tbody tr th {\n",
       "        vertical-align: top;\n",
       "    }\n",
       "\n",
       "    .dataframe thead th {\n",
       "        text-align: right;\n",
       "    }\n",
       "</style>\n",
       "<table border=\"1\" class=\"dataframe\">\n",
       "  <thead>\n",
       "    <tr style=\"text-align: right;\">\n",
       "      <th></th>\n",
       "      <th>Date</th>\n",
       "      <th>Open</th>\n",
       "      <th>High</th>\n",
       "      <th>Low</th>\n",
       "      <th>Close</th>\n",
       "      <th>Adj Close</th>\n",
       "      <th>Volume</th>\n",
       "      <th>value</th>\n",
       "      <th>value</th>\n",
       "    </tr>\n",
       "  </thead>\n",
       "  <tbody>\n",
       "    <tr>\n",
       "      <th>0</th>\n",
       "      <td>2010-06-11</td>\n",
       "      <td>5078.750000</td>\n",
       "      <td>5139.049805</td>\n",
       "      <td>5078.750000</td>\n",
       "      <td>5119.350098</td>\n",
       "      <td>5119.350098</td>\n",
       "      <td>0.0</td>\n",
       "      <td>0.007994</td>\n",
       "      <td>0.799411</td>\n",
       "    </tr>\n",
       "    <tr>\n",
       "      <th>1</th>\n",
       "      <td>2010-06-14</td>\n",
       "      <td>5120.149902</td>\n",
       "      <td>5201.250000</td>\n",
       "      <td>5120.149902</td>\n",
       "      <td>5197.700195</td>\n",
       "      <td>5197.700195</td>\n",
       "      <td>0.0</td>\n",
       "      <td>0.015146</td>\n",
       "      <td>1.514610</td>\n",
       "    </tr>\n",
       "    <tr>\n",
       "      <th>2</th>\n",
       "      <td>2010-06-15</td>\n",
       "      <td>5201.299805</td>\n",
       "      <td>5231.450195</td>\n",
       "      <td>5171.049805</td>\n",
       "      <td>5222.350098</td>\n",
       "      <td>5222.350098</td>\n",
       "      <td>0.0</td>\n",
       "      <td>0.004047</td>\n",
       "      <td>0.404712</td>\n",
       "    </tr>\n",
       "    <tr>\n",
       "      <th>3</th>\n",
       "      <td>2010-06-16</td>\n",
       "      <td>5225.049805</td>\n",
       "      <td>5255.649902</td>\n",
       "      <td>5214.899902</td>\n",
       "      <td>5233.350098</td>\n",
       "      <td>5233.350098</td>\n",
       "      <td>0.0</td>\n",
       "      <td>0.001589</td>\n",
       "      <td>0.158856</td>\n",
       "    </tr>\n",
       "    <tr>\n",
       "      <th>4</th>\n",
       "      <td>2010-06-17</td>\n",
       "      <td>5233.649902</td>\n",
       "      <td>5285.549805</td>\n",
       "      <td>5206.549805</td>\n",
       "      <td>5274.850098</td>\n",
       "      <td>5274.850098</td>\n",
       "      <td>0.0</td>\n",
       "      <td>0.007872</td>\n",
       "      <td>0.787217</td>\n",
       "    </tr>\n",
       "    <tr>\n",
       "      <th>...</th>\n",
       "      <td>...</td>\n",
       "      <td>...</td>\n",
       "      <td>...</td>\n",
       "      <td>...</td>\n",
       "      <td>...</td>\n",
       "      <td>...</td>\n",
       "      <td>...</td>\n",
       "      <td>...</td>\n",
       "      <td>...</td>\n",
       "    </tr>\n",
       "    <tr>\n",
       "      <th>2715</th>\n",
       "      <td>2021-06-07</td>\n",
       "      <td>15725.099609</td>\n",
       "      <td>15773.450195</td>\n",
       "      <td>15678.099609</td>\n",
       "      <td>15751.650391</td>\n",
       "      <td>15751.650391</td>\n",
       "      <td>394000.0</td>\n",
       "      <td>0.001688</td>\n",
       "      <td>0.168843</td>\n",
       "    </tr>\n",
       "    <tr>\n",
       "      <th>2716</th>\n",
       "      <td>2021-06-08</td>\n",
       "      <td>15773.900391</td>\n",
       "      <td>15778.799805</td>\n",
       "      <td>15680.000000</td>\n",
       "      <td>15740.099609</td>\n",
       "      <td>15740.099609</td>\n",
       "      <td>378200.0</td>\n",
       "      <td>-0.002143</td>\n",
       "      <td>-0.214283</td>\n",
       "    </tr>\n",
       "    <tr>\n",
       "      <th>2717</th>\n",
       "      <td>2021-06-09</td>\n",
       "      <td>15766.299805</td>\n",
       "      <td>15800.450195</td>\n",
       "      <td>15566.900391</td>\n",
       "      <td>15635.349609</td>\n",
       "      <td>15635.349609</td>\n",
       "      <td>457900.0</td>\n",
       "      <td>-0.008306</td>\n",
       "      <td>-0.830570</td>\n",
       "    </tr>\n",
       "    <tr>\n",
       "      <th>2718</th>\n",
       "      <td>2021-06-10</td>\n",
       "      <td>15692.099609</td>\n",
       "      <td>15751.250000</td>\n",
       "      <td>15648.500000</td>\n",
       "      <td>15737.750000</td>\n",
       "      <td>15737.750000</td>\n",
       "      <td>298300.0</td>\n",
       "      <td>0.002909</td>\n",
       "      <td>0.290913</td>\n",
       "    </tr>\n",
       "    <tr>\n",
       "      <th>2719</th>\n",
       "      <td>2021-06-11</td>\n",
       "      <td>15796.450195</td>\n",
       "      <td>15835.549805</td>\n",
       "      <td>15749.799805</td>\n",
       "      <td>15799.349609</td>\n",
       "      <td>15799.349609</td>\n",
       "      <td>363000.0</td>\n",
       "      <td>NaN</td>\n",
       "      <td>NaN</td>\n",
       "    </tr>\n",
       "  </tbody>\n",
       "</table>\n",
       "<p>2720 rows × 9 columns</p>\n",
       "</div>"
      ],
      "text/plain": [
       "            Date          Open          High           Low         Close  \\\n",
       "0     2010-06-11   5078.750000   5139.049805   5078.750000   5119.350098   \n",
       "1     2010-06-14   5120.149902   5201.250000   5120.149902   5197.700195   \n",
       "2     2010-06-15   5201.299805   5231.450195   5171.049805   5222.350098   \n",
       "3     2010-06-16   5225.049805   5255.649902   5214.899902   5233.350098   \n",
       "4     2010-06-17   5233.649902   5285.549805   5206.549805   5274.850098   \n",
       "...          ...           ...           ...           ...           ...   \n",
       "2715  2021-06-07  15725.099609  15773.450195  15678.099609  15751.650391   \n",
       "2716  2021-06-08  15773.900391  15778.799805  15680.000000  15740.099609   \n",
       "2717  2021-06-09  15766.299805  15800.450195  15566.900391  15635.349609   \n",
       "2718  2021-06-10  15692.099609  15751.250000  15648.500000  15737.750000   \n",
       "2719  2021-06-11  15796.450195  15835.549805  15749.799805  15799.349609   \n",
       "\n",
       "         Adj Close    Volume     value     value  \n",
       "0      5119.350098       0.0  0.007994  0.799411  \n",
       "1      5197.700195       0.0  0.015146  1.514610  \n",
       "2      5222.350098       0.0  0.004047  0.404712  \n",
       "3      5233.350098       0.0  0.001589  0.158856  \n",
       "4      5274.850098       0.0  0.007872  0.787217  \n",
       "...            ...       ...       ...       ...  \n",
       "2715  15751.650391  394000.0  0.001688  0.168843  \n",
       "2716  15740.099609  378200.0 -0.002143 -0.214283  \n",
       "2717  15635.349609  457900.0 -0.008306 -0.830570  \n",
       "2718  15737.750000  298300.0  0.002909  0.290913  \n",
       "2719  15799.349609  363000.0       NaN       NaN  \n",
       "\n",
       "[2720 rows x 9 columns]"
      ]
     },
     "execution_count": 22,
     "metadata": {},
     "output_type": "execute_result"
    }
   ],
   "source": [
    "a = pd.concat([a,df2],axis=1)\n",
    "a"
   ]
  },
  {
   "cell_type": "code",
   "execution_count": 25,
   "metadata": {},
   "outputs": [
    {
     "data": {
      "text/html": [
       "<div>\n",
       "<style scoped>\n",
       "    .dataframe tbody tr th:only-of-type {\n",
       "        vertical-align: middle;\n",
       "    }\n",
       "\n",
       "    .dataframe tbody tr th {\n",
       "        vertical-align: top;\n",
       "    }\n",
       "\n",
       "    .dataframe thead th {\n",
       "        text-align: right;\n",
       "    }\n",
       "</style>\n",
       "<table border=\"1\" class=\"dataframe\">\n",
       "  <thead>\n",
       "    <tr style=\"text-align: right;\">\n",
       "      <th></th>\n",
       "      <th>Date</th>\n",
       "      <th>value</th>\n",
       "    </tr>\n",
       "  </thead>\n",
       "  <tbody>\n",
       "    <tr>\n",
       "      <th>0</th>\n",
       "      <td>2010-06-11</td>\n",
       "      <td>0.007994</td>\n",
       "    </tr>\n",
       "    <tr>\n",
       "      <th>1</th>\n",
       "      <td>2010-06-14</td>\n",
       "      <td>0.015146</td>\n",
       "    </tr>\n",
       "    <tr>\n",
       "      <th>2</th>\n",
       "      <td>2010-06-15</td>\n",
       "      <td>0.004047</td>\n",
       "    </tr>\n",
       "    <tr>\n",
       "      <th>3</th>\n",
       "      <td>2010-06-16</td>\n",
       "      <td>0.001589</td>\n",
       "    </tr>\n",
       "    <tr>\n",
       "      <th>4</th>\n",
       "      <td>2010-06-17</td>\n",
       "      <td>0.007872</td>\n",
       "    </tr>\n",
       "    <tr>\n",
       "      <th>...</th>\n",
       "      <td>...</td>\n",
       "      <td>...</td>\n",
       "    </tr>\n",
       "    <tr>\n",
       "      <th>2715</th>\n",
       "      <td>2021-06-07</td>\n",
       "      <td>0.001688</td>\n",
       "    </tr>\n",
       "    <tr>\n",
       "      <th>2716</th>\n",
       "      <td>2021-06-08</td>\n",
       "      <td>-0.002143</td>\n",
       "    </tr>\n",
       "    <tr>\n",
       "      <th>2717</th>\n",
       "      <td>2021-06-09</td>\n",
       "      <td>-0.008306</td>\n",
       "    </tr>\n",
       "    <tr>\n",
       "      <th>2718</th>\n",
       "      <td>2021-06-10</td>\n",
       "      <td>0.002909</td>\n",
       "    </tr>\n",
       "    <tr>\n",
       "      <th>2719</th>\n",
       "      <td>2021-06-11</td>\n",
       "      <td>NaN</td>\n",
       "    </tr>\n",
       "  </tbody>\n",
       "</table>\n",
       "<p>2720 rows × 2 columns</p>\n",
       "</div>"
      ],
      "text/plain": [
       "            Date     value\n",
       "0     2010-06-11  0.007994\n",
       "1     2010-06-14  0.015146\n",
       "2     2010-06-15  0.004047\n",
       "3     2010-06-16  0.001589\n",
       "4     2010-06-17  0.007872\n",
       "...          ...       ...\n",
       "2715  2021-06-07  0.001688\n",
       "2716  2021-06-08 -0.002143\n",
       "2717  2021-06-09 -0.008306\n",
       "2718  2021-06-10  0.002909\n",
       "2719  2021-06-11       NaN\n",
       "\n",
       "[2720 rows x 2 columns]"
      ]
     },
     "execution_count": 25,
     "metadata": {},
     "output_type": "execute_result"
    }
   ],
   "source": [
    "h=a.iloc[:,[0,8]]\n",
    "f = a.iloc[:,[0,7]]\n",
    "h\n",
    "f"
   ]
  },
  {
   "cell_type": "code",
   "execution_count": 24,
   "metadata": {},
   "outputs": [
    {
     "data": {
      "text/plain": [
       "array([[<AxesSubplot:title={'center':'value'}>]], dtype=object)"
      ]
     },
     "execution_count": 24,
     "metadata": {},
     "output_type": "execute_result"
    },
    {
     "data": {
      "image/png": "[encoded data removed]",
      "text/plain": [
       "<Figure size 432x288 with 1 Axes>"
      ]
     },
     "metadata": {
      "needs_background": "light"
     },
     "output_type": "display_data"
    }
   ],
   "source": [
    "h.hist()"
   ]
  },
  {
   "cell_type": "code",
   "execution_count": 26,
   "metadata": {},
   "outputs": [
    {
     "data": {
      "text/plain": [
       "array([[<AxesSubplot:title={'center':'value'}>]], dtype=object)"
      ]
     },
     "execution_count": 26,
     "metadata": {},
     "output_type": "execute_result"
    },
    {
     "data": {
      "image/png": "[encoded data removed]",
      "text/plain": [
       "<Figure size 432x288 with 1 Axes>"
      ]
     },
     "metadata": {
      "needs_background": "light"
     },
     "output_type": "display_data"
    }
   ],
   "source": [
    "f.hist()"
   ]
  },
  {
   "cell_type": "code",
   "execution_count": null,
   "metadata": {},
   "outputs": [],
   "source": []
  }
 ],
 "metadata": {
  "kernelspec": {
   "display_name": "Python 3",
   "language": "python",
   "name": "python3"
  },
  "language_info": {
   "codemirror_mode": {
    "name": "ipython",
    "version": 3
   },
   "file_extension": ".py",
   "mimetype": "text/x-python",
   "name": "python",
   "nbconvert_exporter": "python",
   "pygments_lexer": "ipython3",
   "version": "3.8.5"
  }
 },
 "nbformat": 4,
 "nbformat_minor": 4
}
